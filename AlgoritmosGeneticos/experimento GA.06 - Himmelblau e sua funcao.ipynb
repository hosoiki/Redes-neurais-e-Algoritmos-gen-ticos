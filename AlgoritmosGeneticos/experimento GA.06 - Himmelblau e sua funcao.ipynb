{
 "cells": [
  {
   "cell_type": "markdown",
   "id": "af71a020-6926-4823-afe0-6f9e1094bb00",
   "metadata": {},
   "source": [
    "## Mínimos e máximos de funções matemáticas"
   ]
  },
  {
   "cell_type": "markdown",
   "id": "50d1140f-644e-4e88-aa8f-598e77004098",
   "metadata": {},
   "source": [
    "Esse experimento está dividido em 2 objetivos. Faça um notebook para cada objetivo para deixar tudo bem organizado.\n",
    "\n"
   ]
  },
  {
   "cell_type": "markdown",
   "id": "8022f905-53a9-4b73-974e-2ad576c9d697",
   "metadata": {},
   "source": [
    "### A função de Himmelblau\n"
   ]
  },
  {
   "cell_type": "markdown",
   "id": "c39349ba-0906-4e46-bef8-9f06bbd3b771",
   "metadata": {},
   "source": [
    "**Objetivo**: Encontre a coordenada $(x,y)$ do mínimo global da função de Himmelblau abaixo.\n",
    "\n",
    "$$\n",
    "f(x,y) = (x^2 +y -11)^2 + (x + y^2 - 7)^2\n",
    "$$\n",
    "\n"
   ]
  },
  {
   "cell_type": "code",
   "execution_count": null,
   "id": "38cc8a07-e0d9-488f-8853-3b5b8450e28a",
   "metadata": {},
   "outputs": [],
   "source": []
  }
 ],
 "metadata": {
  "kernelspec": {
   "display_name": "new-ilumpy",
   "language": "python",
   "name": "new-ilumpy"
  },
  "language_info": {
   "codemirror_mode": {
    "name": "ipython",
    "version": 3
   },
   "file_extension": ".py",
   "mimetype": "text/x-python",
   "name": "python",
   "nbconvert_exporter": "python",
   "pygments_lexer": "ipython3",
   "version": "3.9.7"
  }
 },
 "nbformat": 4,
 "nbformat_minor": 5
}
