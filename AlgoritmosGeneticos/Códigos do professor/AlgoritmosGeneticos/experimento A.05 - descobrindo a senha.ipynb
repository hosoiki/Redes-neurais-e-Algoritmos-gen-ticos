{
 "cells": [
  {
   "cell_type": "markdown",
   "metadata": {},
   "source": [
    "Descobrindo a senha\n",
    "===================\n",
    "\n"
   ]
  },
  {
   "cell_type": "markdown",
   "metadata": {},
   "source": [
    "## Objetivo\n",
    "\n"
   ]
  },
  {
   "cell_type": "markdown",
   "metadata": {},
   "source": [
    "Usar um algoritmo genético para descobrir uma senha.\n",
    "\n"
   ]
  },
  {
   "cell_type": "markdown",
   "metadata": {},
   "source": [
    "## Descrição do problema\n",
    "\n"
   ]
  },
  {
   "cell_type": "markdown",
   "metadata": {},
   "source": [
    "Neste problema, a função objetivo deve saber a senha correta e quantificar de alguma maneira o quão perto ou longe os palpites estão da solução (veja que isso é algo que não temos no mundo real. Nenhum site irá te dizer se você está acertando ou errando seu palpite). O critério de parada deste problema é quando a senha for descoberta.\n",
    "\n"
   ]
  },
  {
   "cell_type": "markdown",
   "metadata": {},
   "source": [
    "## Importações\n",
    "\n"
   ]
  },
  {
   "cell_type": "code",
   "execution_count": 1,
   "metadata": {},
   "outputs": [],
   "source": [
    "from funcoes import populacao_inicial_senha\n",
    "from funcoes import funcao_objetivo_pop_senha\n",
    "from funcoes import selecao_torneio_min\n",
    "from funcoes import cruzamento_ponto_simples as funcao_cruzamento\n",
    "from funcoes import mutacao_senha\n",
    "import random"
   ]
  },
  {
   "cell_type": "markdown",
   "metadata": {},
   "source": [
    "## Códigos e discussão\n",
    "\n"
   ]
  },
  {
   "cell_type": "code",
   "execution_count": 2,
   "metadata": {},
   "outputs": [],
   "source": [
    "### CONSTANTES\n",
    "\n",
    "# relacionadas à busca\n",
    "TAMANHO_POP = 50\n",
    "CHANCE_CRUZAMENTO = 0.5\n",
    "CHANCE_MUTACAO = 0.05\n",
    "NUM_COMBATENTES_NO_TORNEIO = 3\n",
    "\n",
    "# relacionadas ao problema a ser reso/lvido\n",
    "SENHA = \"correcthorsebatterystaple\"\n",
    "LETRAS_POSSIVEIS = \"abcdefghijklmnopqrstuvwxyz\"\n",
    "NUM_GENES = len(SENHA)"
   ]
  },
  {
   "cell_type": "code",
   "execution_count": 3,
   "metadata": {},
   "outputs": [],
   "source": [
    "# funções locais\n",
    "\n",
    "def cria_populacao_inicial(tamanho, tamanho_senha):\n",
    "    return populacao_inicial_senha(tamanho, tamanho_senha, LETRAS_POSSIVEIS)\n",
    "\n",
    "def funcao_objetivo_pop(populacao):\n",
    "    return funcao_objetivo_pop_senha(populacao, SENHA)\n",
    "\n",
    "def funcao_selecao(populacao, fitness):\n",
    "    return selecao_torneio_min(populacao, fitness, NUM_COMBATENTES_NO_TORNEIO)\n",
    "\n",
    "def funcao_mutacao(individuo):\n",
    "    return mutacao_senha(individuo, LETRAS_POSSIVEIS)"
   ]
  },
  {
   "cell_type": "code",
   "execution_count": 4,
   "metadata": {},
   "outputs": [
    {
     "name": "stdout",
     "output_type": "stream",
     "text": [
      "Progresso da melhor senha já vista:\n",
      "glpqraiimuqbdfnikmgmyeefc - fitness: 134\n",
      "glpqraiimuqignuoihrlyaftd - fitness: 124\n",
      "glpqraiimuqbdfnwdzlnrpslc - fitness: 112\n",
      "glpqraiimuqbdfnwnxyoyeflj - fitness: 106\n",
      "blpqraiimuqbdfnwnxyoyeflj - fitness: 103\n",
      "glpqraiimuqbdfnwdzlmyeplc - fitness: 102\n",
      "glpqraiimuqbdfnwnxyoyapfc - fitness: 95\n",
      "glpqraiimuqbdfnwnxynyaplc - fitness: 90\n",
      "glpqiaiimuqbdfnwnxynyaplc - fitness: 81\n",
      "btppiaiimuqbdfnwnxyoyaplc - fitness: 80\n",
      "btpqiaiimuqbdfnwnxyoyaplc - fitness: 79\n",
      "btpqiaiimuqbdfnwnxyowaplc - fitness: 77\n",
      "btpqiaiimuqbdfnwnvyowaplc - fitness: 75\n",
      "blpqiaiimuqbdfnwnvyowaplc - fitness: 73\n",
      "blpqiasimuqbdfnwnxyowaplc - fitness: 65\n",
      "blpqiasimuqbdfnwnxyowaple - fitness: 63\n",
      "blpqiasimuqbdfnwnvyowaple - fitness: 61\n",
      "blpqiasimuqbdfnwivyowaple - fitness: 56\n",
      "blpqibsimuqbdfnwivyowaple - fitness: 55\n",
      "blpqibsimuqbafnwivyowaple - fitness: 54\n",
      "blpqibsimtqbafnwivyowaple - fitness: 53\n",
      "blpqibshmtqbafnwivyowaple - fitness: 52\n",
      "blpqfbshmtqbafnwivyowaple - fitness: 49\n",
      "bmpqfbshmtqbafnwivyowaple - fitness: 48\n",
      "bppqfbshmtqbafnwivyowaple - fitness: 47\n",
      "bppqfbshmtqcafnwivyowaple - fitness: 46\n",
      "bppqfbshmtqcafnwivyvwaple - fitness: 45\n",
      "bpsqfbshmtqcafnwivyvwaple - fitness: 44\n",
      "bppqfbshmtqcafnwivyrwaple - fitness: 43\n",
      "bpsqfbshmtqcafnwivyrwaple - fitness: 42\n",
      "bpsqfbshmtqcafnuivyrwaple - fitness: 40\n",
      "bpsqfbshmtqcafnuiuyrwaple - fitness: 39\n",
      "bpsqfbshmtqcacnuiuyrwaple - fitness: 36\n",
      "bpsqfbshmtqcacouiuyrwaple - fitness: 35\n",
      "bpsqfcshmtqcacouiuyrwaple - fitness: 34\n",
      "bpsqfbshmtqcacquiuyrwaple - fitness: 33\n",
      "bpsqfcshmtqcacquiuyrwaple - fitness: 32\n",
      "bpsqfcshmtqcacqubuyrwaple - fitness: 31\n",
      "bpsqfcshmtqcactubuyrwaple - fitness: 28\n",
      "bpsqfcshmtqcactubuyrsaple - fitness: 26\n",
      "bpsqfcshmtqcactubuyssaple - fitness: 25\n",
      "bpsqfcshmqqcactubuyssaple - fitness: 24\n",
      "bpsqfcshmqqcactucuyssaple - fitness: 23\n",
      "bpsqfcshmqqcaatucuyssaple - fitness: 21\n",
      "bpsqfcshmqqcaatufuyssaple - fitness: 20\n",
      "bpsqfcshmqrcaatufuyssaple - fitness: 19\n",
      "bpsqfcshmqrcbatufuyssaple - fitness: 18\n",
      "bpsrfcshmqrcbatufuyssaple - fitness: 17\n",
      "bpsrfcshmqrebatufuyssaple - fitness: 15\n",
      "bpsrfcshoqrebatufuyssaple - fitness: 13\n",
      "bpsrfcshoqrebatufryssaple - fitness: 10\n",
      "bosrfcshoqrebatufryssaple - fitness: 9\n",
      "bpsrfcshoqrebattfrystaple - fitness: 8\n",
      "cpsrfcshoqrebattfrystaple - fitness: 7\n",
      "cpsrfcshoqrebatterystaple - fitness: 6\n",
      "cpsrfcthoqrebatterystaple - fitness: 5\n",
      "cpsrfcthorrebatterystaple - fitness: 4\n",
      "cpsrfcthorsebatterystaple - fitness: 3\n",
      "cprrfcthorsebatterystaple - fitness: 2\n",
      "cprrecthorsebatterystaple - fitness: 1\n",
      "correcthorsebatterystaple - fitness: 0\n",
      "\n",
      "Melhor palpite da senha encontrado:\n",
      "correcthorsebatterystaple\n"
     ]
    }
   ],
   "source": [
    "populacao = cria_populacao_inicial(TAMANHO_POP, NUM_GENES)\n",
    "\n",
    "melhor_fitness_ja_visto = float(\"inf\")  # é assim que escrevemos infinito em python\n",
    "\n",
    "print(\"Progresso da melhor senha já vista:\")\n",
    "\n",
    "while melhor_fitness_ja_visto != 0:   \n",
    "    \n",
    "    # Seleção\n",
    "    fitness = funcao_objetivo_pop(populacao)\n",
    "    populacao = funcao_selecao(populacao, fitness)\n",
    "    \n",
    "    # Cruzamento\n",
    "    pais = populacao[0::2]\n",
    "    maes = populacao[1::2]\n",
    "    \n",
    "    contador = 0\n",
    "    \n",
    "    for pai, mae in zip(pais, maes):\n",
    "        if random.random() <= CHANCE_CRUZAMENTO:\n",
    "            filho1, filho2 = funcao_cruzamento(pai, mae)\n",
    "            populacao[contador] = filho1\n",
    "            populacao[contador + 1] = filho2\n",
    "        \n",
    "        contador = contador + 2   \n",
    "        \n",
    "    # Mutação\n",
    "    for n in range(len(populacao)):\n",
    "        if random.random() <= CHANCE_MUTACAO:\n",
    "            individuo = populacao[n]\n",
    "            populacao[n] = funcao_mutacao(individuo)            \n",
    "            \n",
    "    # melhor individuo já visto até agora\n",
    "    fitness = funcao_objetivo_pop(populacao)\n",
    "    menor_fitness = min(fitness)\n",
    "    if menor_fitness < melhor_fitness_ja_visto:        \n",
    "        posicao = fitness.index(menor_fitness)\n",
    "        melhor_individuo_ja_visto = populacao[posicao]\n",
    "        melhor_fitness_ja_visto = menor_fitness\n",
    "        print(\"\".join(melhor_individuo_ja_visto), \"- fitness:\", melhor_fitness_ja_visto)        \n",
    "    \n",
    "\n",
    "print()\n",
    "print(\"Melhor palpite da senha encontrado:\")\n",
    "print(\"\".join(melhor_individuo_ja_visto))"
   ]
  },
  {
   "cell_type": "markdown",
   "metadata": {},
   "source": [
    "## Conclusão\n",
    "\n"
   ]
  },
  {
   "cell_type": "markdown",
   "metadata": {},
   "source": [
    "## Playground\n",
    "\n"
   ]
  },
  {
   "cell_type": "code",
   "execution_count": null,
   "metadata": {},
   "outputs": [],
   "source": []
  }
 ],
 "metadata": {
  "kernelspec": {
   "display_name": "ilumpy",
   "language": "python",
   "name": "ilumpy"
  },
  "language_info": {
   "codemirror_mode": {
    "name": "ipython",
    "version": 3
   },
   "file_extension": ".py",
   "mimetype": "text/x-python",
   "name": "python",
   "nbconvert_exporter": "python",
   "pygments_lexer": "ipython3",
   "version": "3.9.7"
  },
  "org": null
 },
 "nbformat": 4,
 "nbformat_minor": 4
}
